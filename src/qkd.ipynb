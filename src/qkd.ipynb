{
 "cells": [
  {
   "cell_type": "markdown",
   "metadata": {},
   "source": [
    "## Échanger quantiquement une clé"
   ]
  },
  {
   "cell_type": "markdown",
   "metadata": {},
   "source": [
    "### Alice prépare, envoie"
   ]
  },
  {
   "cell_type": "markdown",
   "metadata": {},
   "source": [
    "1. |1⟩ + H\n",
    "1. |0⟩ \n",
    "1. |1⟩ + H\n",
    "1. |0⟩ + H\n",
    "1. |1⟩\n",
    "1. |1⟩ + H\n",
    "1. |0⟩\n",
    "1. |1⟩ + H"
   ]
  },
  {
   "cell_type": "markdown",
   "metadata": {},
   "source": [
    "### Bob reçoit, traite, demande"
   ]
  },
  {
   "cell_type": "markdown",
   "metadata": {},
   "source": [
    "#### Réception/traitement"
   ]
  },
  {
   "cell_type": "markdown",
   "metadata": {},
   "source": [
    "<table>\n",
    "<tr><th></th><th>Reçu</th><th>Aléatoire</th><th>Mesure</th></tr>\n",
    "<tr><td>1</td><td>|1⟩ + H</td><td></td><td>0/1</td></tr>\n",
    "<tr><td>2</td><td>|0⟩ </td><td>H</td><td>0/1</td></tr>\n",
    "<tr><td>3</td><td>|1⟩ + H</td><td></td><td>0/1</td></tr>\n",
    "<tr><td>4</td><td>|0⟩ + H</td><td>H</td><td>0</td></tr>\n",
    "<tr><td>5</td><td>|1⟩</td><td></td><td>1</td></tr>\n",
    "<tr><td>6</td><td>|1⟩ + H</td><td></td><td>0/1</td></tr>\n",
    "<tr><td>7</td><td>|0⟩</td><td>H </td><td>0/1</td></tr>\n",
    "<tr><td>8</td><td>|1⟩ + H</td><td>H</td><td>1</td></tr>\n",
    "</table>"
   ]
  },
  {
   "cell_type": "markdown",
   "metadata": {},
   "source": [
    "#### Envoi \"J'ai fait H sur... Que garder ?\""
   ]
  },
  {
   "cell_type": "markdown",
   "metadata": {},
   "source": [
    "J'ai fait H sur **2, 4, 7, 8** Que garder ? "
   ]
  },
  {
   "cell_type": "markdown",
   "metadata": {},
   "source": [
    "### Alice répond"
   ]
  },
  {
   "cell_type": "markdown",
   "metadata": {},
   "source": [
    "<table>\n",
    "<tr><th></th><th>A</th><th>B</th><th></th></tr>\n",
    "<tr><td>1</td><td>H</td><td> </td><td></td></tr>\n",
    "<tr><td>2</td><td> </td><td>H</td><td></td></tr>\n",
    "<tr><td>3</td><td>H</td><td> </td><td></td></tr>\n",
    "<tr><td>4</td><td>H</td><td>H</td><td>ok</td></tr>\n",
    "<tr><td>5</td><td> </td><td> </td><td>ok</td></tr>\n",
    "<tr><td>6</td><td>H</td><td> </td><td></td></tr>\n",
    "<tr><td>7</td><td> </td><td>H</td><td></td></tr>\n",
    "<tr><td>8</td><td>H</td><td>H</td><td>ok</td></tr>\n",
    "</table>\n",
    "Message à Bob : 4, 5, 8\n",
    "\n",
    "Clé est : 0,  1, 1"
   ]
  },
  {
   "cell_type": "markdown",
   "metadata": {},
   "source": [
    "### Bob déduit la clé"
   ]
  },
  {
   "cell_type": "markdown",
   "metadata": {},
   "source": [
    "Clé est : 0, 1, 1"
   ]
  },
  {
   "cell_type": "markdown",
   "metadata": {},
   "source": [
    "## Simuler un QKD"
   ]
  },
  {
   "cell_type": "markdown",
   "metadata": {},
   "source": [
    "### Objets"
   ]
  },
  {
   "cell_type": "code",
   "execution_count": 1,
   "metadata": {},
   "outputs": [],
   "source": [
    "import random\n",
    "import math\n",
    "from numpy import ndarray\n",
    "from qiskit import transpile\n",
    "from qiskit.circuit import QuantumCircuit\n",
    "from qiskit.quantum_info import Statevector\n",
    "from qiskit.providers.basic_provider import BasicProvider\n",
    "\n",
    "def masque_qubits(mask: int, size: int) -> list[int]:\n",
    "  return [i for i in range(size) if (1 << i) & mask]"
   ]
  },
  {
   "cell_type": "code",
   "execution_count": 2,
   "metadata": {},
   "outputs": [],
   "source": [
    "class Cle:\n",
    "  def __init__(self, masque_commun: int, valeurs: int):\n",
    "    self.masque_commun = masque_commun\n",
    "    self.cle = 0\n",
    "    self.taille = 0\n",
    "    while masque_commun > 0 and valeurs > 0:\n",
    "      if masque_commun & 1:\n",
    "        self.cle |= (1 << self.taille) if valeurs & 1 else 0\n",
    "        self.taille += 1\n",
    "      masque_commun >>= 1\n",
    "      valeurs >>= 1\n",
    "\n",
    "  def get_masque_commun(self) -> int:\n",
    "    return self.masque_commun\n",
    "\n",
    "  def get_cle(self) -> int:\n",
    "    return self.cle\n",
    "\n",
    "  def get_taille(self) -> int:\n",
    "    return self.taille"
   ]
  },
  {
   "cell_type": "code",
   "execution_count": 3,
   "metadata": {},
   "outputs": [],
   "source": [
    "class Alice:\n",
    "  def __init__(self, taille_cle: int):\n",
    "    self.taille_cle = taille_cle\n",
    "    self.nb_qubits = taille_cle * 3\n",
    "    max = 1 << self.nb_qubits\n",
    "    self.masque_b = random.randrange(max)\n",
    "    self.masque_h = random.randrange(max)\n",
    "    self.circuit = QuantumCircuit(self.nb_qubits)\n",
    "    self.circuit.x(masque_qubits(self.masque_b, max))\n",
    "    self.circuit.h(masque_qubits(self.masque_h, max))\n",
    "\n",
    "  def get_qubits(self) -> ndarray:\n",
    "    return Statevector(self.circuit)\n",
    "\n",
    "  def get_cle(self, masque_commun: int) -> Cle:\n",
    "    toutA1 = (1 << self.nb_qubits)-1\n",
    "    return Cle(masque_commun ^ self.masque_h ^ toutA1, self.masque_b)\n",
    "\n",
    "  def dessiner_circuit(self):\n",
    "    return self.circuit.draw()"
   ]
  },
  {
   "cell_type": "code",
   "execution_count": 4,
   "metadata": {},
   "outputs": [],
   "source": [
    "class Bob:\n",
    "  def __init__(self, etats: ndarray):\n",
    "    self.nb_qubits = int(math.log2(len(etats)))\n",
    "    self.taille_cle = self.nb_qubits//3\n",
    "    max = 1 << self.nb_qubits\n",
    "    self.masque_h = random.randrange(max)\n",
    "    self.circuit = QuantumCircuit(self.nb_qubits)\n",
    "    self.circuit.prepare_state(etats)\n",
    "    self.circuit.h(masque_qubits(self.masque_h, max))\n",
    "    self.circuit.measure_all()\n",
    "\n",
    "  def get_masque_h(self) -> int:\n",
    "    return self.masque_h\n",
    "\n",
    "  def dessiner_circuit(self):\n",
    "    return self.circuit.draw()\n",
    "\n",
    "  def get_cle(self, masque_correspondance: int) -> Cle:\n",
    "    simulateur = BasicProvider().get_backend('basic_simulator')\n",
    "    compile = transpile(self.circuit, simulateur)\n",
    "    job = simulateur.run(compile, shots=100)\n",
    "    result = job.result().get_counts(compile).int_outcomes()\n",
    "    return Cle(masque_correspondance, max(result, key=result.get))\n"
   ]
  },
  {
   "cell_type": "markdown",
   "metadata": {},
   "source": [
    "### Alice prépare, envoie"
   ]
  },
  {
   "cell_type": "code",
   "execution_count": null,
   "metadata": {},
   "outputs": [],
   "source": [
    "alice = Alice(3)\n",
    "canal_quantique = alice.get_qubits()\n",
    "alice.dessiner_circuit()"
   ]
  },
  {
   "cell_type": "code",
   "execution_count": null,
   "metadata": {},
   "outputs": [],
   "source": [
    "from qiskit.visualization import plot_bloch_multivector\n",
    "\n",
    "plot_bloch_multivector(canal_quantique)"
   ]
  },
  {
   "cell_type": "markdown",
   "metadata": {},
   "source": [
    "### Bob reçoit, traite, demande "
   ]
  },
  {
   "cell_type": "code",
   "execution_count": null,
   "metadata": {},
   "outputs": [],
   "source": [
    "bob = Bob(canal_quantique)\n",
    "bob.dessiner_circuit()"
   ]
  },
  {
   "cell_type": "code",
   "execution_count": null,
   "metadata": {},
   "outputs": [],
   "source": [
    "canal_public_ba = bob.get_masque_h()\n",
    "\"{0:b}\".format(canal_public_ba)"
   ]
  },
  {
   "cell_type": "markdown",
   "metadata": {},
   "source": [
    "### Alice répond"
   ]
  },
  {
   "cell_type": "code",
   "execution_count": null,
   "metadata": {},
   "outputs": [],
   "source": [
    "cle_alice = alice.get_cle(canal_public_ba)\n",
    "canal_public_ab = cle_alice.get_masque_commun()\n",
    "vars(cle_alice)"
   ]
  },
  {
   "cell_type": "markdown",
   "metadata": {},
   "source": [
    "### Bob déduit la clé"
   ]
  },
  {
   "cell_type": "code",
   "execution_count": null,
   "metadata": {},
   "outputs": [],
   "source": [
    "cle_bob = bob.get_cle(canal_public_ab)\n",
    "vars(cle_bob)"
   ]
  }
 ],
 "metadata": {
  "kernelspec": {
   "display_name": "Python 3",
   "language": "python",
   "name": "python3"
  },
  "language_info": {
   "codemirror_mode": {
    "name": "ipython",
    "version": 3
   },
   "file_extension": ".py",
   "mimetype": "text/x-python",
   "name": "python",
   "nbconvert_exporter": "python",
   "pygments_lexer": "ipython3",
   "version": "3.10.13"
  },
  "orig_nbformat": 4
 },
 "nbformat": 4,
 "nbformat_minor": 2
}
