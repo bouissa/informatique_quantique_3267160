{
 "cells": [
  {
   "cell_type": "markdown",
   "metadata": {},
   "source": [
    "## Assembler des circuits"
   ]
  },
  {
   "cell_type": "markdown",
   "metadata": {},
   "source": [
    "### Registres"
   ]
  },
  {
   "cell_type": "code",
   "execution_count": 31,
   "metadata": {},
   "outputs": [],
   "source": [
    "from qiskit import QuantumRegister, ClassicalRegister\n",
    "\n",
    "entrees = QuantumRegister  (4, 'entrees')\n",
    "sorties = ClassicalRegister(4, 'sorties')"
   ]
  },
  {
   "cell_type": "markdown",
   "metadata": {},
   "source": [
    "### Milieu"
   ]
  },
  {
   "cell_type": "code",
   "execution_count": null,
   "metadata": {},
   "outputs": [],
   "source": [
    "from qiskit import QuantumCircuit\n",
    "\n",
    "circuit = QuantumCircuit(entrees, sorties)\n",
    "circuit.barrier(0)\n",
    "circuit.barrier(1)\n",
    "circuit.barrier(2)\n",
    "circuit.barrier(3)\n",
    "circuit.cx(2, 3)\n",
    "circuit.draw()"
   ]
  },
  {
   "cell_type": "markdown",
   "metadata": {},
   "source": [
    "### Fragments"
   ]
  },
  {
   "cell_type": "code",
   "execution_count": null,
   "metadata": {},
   "outputs": [],
   "source": [
    "hadamard = QuantumCircuit(entrees.size)\n",
    "hadamard.h(range(entrees.size-1))\n",
    "hadamard.draw()"
   ]
  },
  {
   "cell_type": "code",
   "execution_count": null,
   "metadata": {},
   "outputs": [],
   "source": [
    "mesure = QuantumCircuit(entrees.size, sorties.size)\n",
    "mesure.measure_all(add_bits=False)\n",
    "mesure.draw()"
   ]
  },
  {
   "cell_type": "markdown",
   "metadata": {},
   "source": [
    "### Assemblage"
   ]
  },
  {
   "cell_type": "code",
   "execution_count": null,
   "metadata": {},
   "outputs": [],
   "source": [
    "circuit = circuit.compose(hadamard, front=True).compose(mesure)\n",
    "circuit.draw()"
   ]
  },
  {
   "cell_type": "markdown",
   "metadata": {},
   "source": [
    "### Simulation partielle"
   ]
  },
  {
   "cell_type": "code",
   "execution_count": null,
   "metadata": {},
   "outputs": [],
   "source": [
    "# Qiskit v0.46.1\n",
    "#  from qiskit import transpile, BasicAer\n",
    "\n",
    "#  simulator = BasicAer.get_backend('statevector_simulator')\n",
    "#  result = simulator.run(transpile(hadamard, simulator), shots=256).result()\n",
    "#  states = result.get_statevector(hadamard)\n",
    "\n",
    "# Qiskit v1.0.2\n",
    "from qiskit.quantum_info import Statevector\n",
    "\n",
    "states = Statevector(hadamard)\n",
    "states"
   ]
  },
  {
   "cell_type": "markdown",
   "metadata": {},
   "source": [
    "### Visualisation"
   ]
  },
  {
   "cell_type": "code",
   "execution_count": null,
   "metadata": {},
   "outputs": [],
   "source": [
    "from qiskit.visualization import plot_bloch_multivector\n",
    "\n",
    "plot_bloch_multivector(states)"
   ]
  }
 ],
 "metadata": {
  "kernelspec": {
   "display_name": "Python 3",
   "language": "python",
   "name": "python3"
  },
  "language_info": {
   "codemirror_mode": {
    "name": "ipython",
    "version": 3
   },
   "file_extension": ".py",
   "mimetype": "text/x-python",
   "name": "python",
   "nbconvert_exporter": "python",
   "pygments_lexer": "ipython3",
   "version": "3.10.13"
  },
  "orig_nbformat": 4
 },
 "nbformat": 4,
 "nbformat_minor": 2
}
