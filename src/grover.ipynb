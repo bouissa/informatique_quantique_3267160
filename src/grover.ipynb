{
 "cells": [
  {
   "cell_type": "markdown",
   "metadata": {},
   "source": [
    "## Transcrire un algorithme (Grover)"
   ]
  },
  {
   "cell_type": "markdown",
   "metadata": {},
   "source": [
    "### Registres"
   ]
  },
  {
   "cell_type": "code",
   "execution_count": 1,
   "metadata": {},
   "outputs": [],
   "source": [
    "from qiskit import QuantumRegister, ClassicalRegister\n",
    "\n",
    "valeurs = QuantumRegister(3, 'valeurs')\n",
    "mesures = ClassicalRegister(valeurs.size, 'mesures')"
   ]
  },
  {
   "cell_type": "markdown",
   "metadata": {},
   "source": [
    "### Oracle"
   ]
  },
  {
   "cell_type": "code",
   "execution_count": 2,
   "metadata": {},
   "outputs": [],
   "source": [
    "from qiskit import QuantumCircuit\n",
    "\n",
    "oracle = QuantumCircuit(valeurs.size)\n",
    "oracle.barrier(range(oracle.num_qubits))\n",
    "oracle.x(1)\n",
    "oracle.ccz(0, 1, 2)\n",
    "oracle.x(1)\n",
    "oracle.barrier(range(oracle.num_qubits))\n",
    "oracle.draw()"
   ]
  },
  {
   "cell_type": "markdown",
   "metadata": {},
   "source": [
    "### Diffuseur"
   ]
  },
  {
   "cell_type": "code",
   "execution_count": 3,
   "metadata": {},
   "outputs": [],
   "source": [
    "diffuseur = QuantumCircuit(valeurs.size)\n",
    "diffuseur.h(range(diffuseur.num_qubits))\n",
    "diffuseur.x(range(diffuseur.num_qubits))\n",
    "# diffuseur.barrier(range(diffuseur.num_qubits-1))\n",
    "diffuseur.h(diffuseur.num_qubits-1)\n",
    "diffuseur.ccx(0, 1, 2)\n",
    "diffuseur.h(diffuseur.num_qubits-1)\n",
    "# diffuseur.barrier(range(diffuseur.num_qubits-1))\n",
    "diffuseur.x(range(diffuseur.num_qubits))\n",
    "diffuseur.h(range(diffuseur.num_qubits))\n",
    "diffuseur.draw()"
   ]
  },
  {
   "cell_type": "markdown",
   "metadata": {},
   "source": [
    "### Circuit"
   ]
  },
  {
   "cell_type": "markdown",
   "metadata": {},
   "source": [
    "#### Amorce\n",
    "Portes d'Hadamard + Oracle"
   ]
  },
  {
   "cell_type": "code",
   "execution_count": 4,
   "metadata": {},
   "outputs": [],
   "source": [
    "circuit = QuantumCircuit(valeurs)\n",
    "circuit.h(range(circuit.num_qubits))\n",
    "circuit = circuit.compose(oracle)\n",
    "circuit.draw()"
   ]
  },
  {
   "cell_type": "markdown",
   "metadata": {},
   "source": [
    "#### Vérification de l'oracle\n",
    "Simulation partielle"
   ]
  },
  {
   "cell_type": "code",
   "execution_count": 9,
   "metadata": {},
   "outputs": [],
   "source": [
    "# Qiskit v0.46.1\n",
    "#  from qiskit import transpile, BasicAer\n",
    "\n",
    "#  simulator = BasicAer.get_backend('statevector_simulator')\n",
    "#  result = simulator.run(transpile(circuit, simulator), shots=256).result()\n",
    "#  states = result.get_statevector(circuit)\n",
    "\n",
    "# Qiskit v1.0.2\n",
    "from qiskit.quantum_info import Statevector\n",
    "\n",
    "states = Statevector(circuit)"
   ]
  },
  {
   "cell_type": "markdown",
   "metadata": {},
   "source": [
    "Phases"
   ]
  },
  {
   "cell_type": "code",
   "execution_count": 10,
   "metadata": {},
   "outputs": [],
   "source": [
    "from numpy import arctan2, degrees, round\n",
    "\n",
    "[round(degrees(arctan2(state.imag, state.real))) for state in states]"
   ]
  },
  {
   "cell_type": "markdown",
   "metadata": {},
   "source": [
    "Graphique"
   ]
  },
  {
   "cell_type": "code",
   "execution_count": 11,
   "metadata": {},
   "outputs": [],
   "source": [
    "from qiskit.visualization import plot_state_qsphere\n",
    "\n",
    "plot_state_qsphere(states, show_state_phases=True)"
   ]
  },
  {
   "cell_type": "markdown",
   "metadata": {},
   "source": [
    "#### Ajout du diffuseur"
   ]
  },
  {
   "cell_type": "code",
   "execution_count": 12,
   "metadata": {},
   "outputs": [],
   "source": [
    "circuit.compose(diffuseur, inplace=True)\n",
    "circuit.draw()"
   ]
  },
  {
   "cell_type": "markdown",
   "metadata": {},
   "source": [
    "#### Répétition + Mesure"
   ]
  },
  {
   "cell_type": "code",
   "execution_count": 13,
   "metadata": {},
   "outputs": [],
   "source": [
    "circuit = circuit \\\n",
    "    .compose(oracle) \\\n",
    "    .compose(diffuseur)\n",
    "\n",
    "circuit.add_register(mesures)\n",
    "circuit.measure_all(add_bits=False)\n",
    "circuit.draw()"
   ]
  },
  {
   "cell_type": "markdown",
   "metadata": {},
   "source": [
    "### Simulation"
   ]
  },
  {
   "cell_type": "code",
   "execution_count": 14,
   "metadata": {},
   "outputs": [],
   "source": [
    "# Qiskit v0.46.1\n",
    "#  from qiskit import transpile, BasicAer\n",
    "#  simulator = BasicAer.get_backend('qasm_simulator')\n",
    "\n",
    "from qiskit import transpile\n",
    "from qiskit.visualization import plot_histogram\n",
    "from qiskit.providers.basic_provider import BasicProvider\n",
    "\n",
    "simulator = BasicProvider().get_backend('basic_simulator')\n",
    "compiled = transpile(circuit, simulator)\n",
    "job = simulator.run(compiled, shots=1000)\n",
    "result = job.result()\n",
    "\n",
    "counts = result.get_counts(compiled).int_outcomes()\n",
    "plot_histogram(counts)"
   ]
  }
 ],
 "metadata": {
  "kernelspec": {
   "display_name": "Python 3",
   "language": "python",
   "name": "python3"
  },
  "language_info": {
   "codemirror_mode": {
    "name": "ipython",
    "version": 3
   },
   "file_extension": ".py",
   "mimetype": "text/x-python",
   "name": "python",
   "nbconvert_exporter": "python",
   "pygments_lexer": "ipython3",
   "version": "3.10.13"
  },
  "orig_nbformat": 4
 },
 "nbformat": 4,
 "nbformat_minor": 2
}
